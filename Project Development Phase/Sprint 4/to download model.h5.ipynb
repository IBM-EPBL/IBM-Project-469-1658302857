{
 "cells": [
  {
   "cell_type": "code",
   "execution_count": 1,
   "id": "2c569335",
   "metadata": {},
   "outputs": [
    {
     "name": "stdout",
     "output_type": "stream",
     "text": [
      "Collecting watson-machine-learning-client\n",
      "  Using cached watson_machine_learning_client-1.0.391-py3-none-any.whl (538 kB)\n",
      "Collecting tabulate\n",
      "  Using cached tabulate-0.9.0-py3-none-any.whl (35 kB)\n",
      "Requirement already satisfied: requests in c:\\users\\abdul\\appdata\\local\\programs\\python\\python310\\lib\\site-packages (from watson-machine-learning-client) (2.28.1)\n",
      "Collecting ibm-cos-sdk\n",
      "  Using cached ibm-cos-sdk-2.12.0.tar.gz (55 kB)\n",
      "  Preparing metadata (setup.py): started\n",
      "  Preparing metadata (setup.py): finished with status 'done'\n",
      "Collecting boto3\n",
      "  Using cached boto3-1.26.13-py3-none-any.whl (132 kB)\n",
      "Collecting lomond\n",
      "  Using cached lomond-0.3.3-py2.py3-none-any.whl (35 kB)\n",
      "Requirement already satisfied: tqdm in c:\\users\\abdul\\appdata\\local\\programs\\python\\python310\\lib\\site-packages (from watson-machine-learning-client) (4.64.0)\n",
      "Requirement already satisfied: urllib3 in c:\\users\\abdul\\appdata\\local\\programs\\python\\python310\\lib\\site-packages (from watson-machine-learning-client) (1.26.10)\n",
      "Requirement already satisfied: certifi in c:\\users\\abdul\\appdata\\local\\programs\\python\\python310\\lib\\site-packages (from watson-machine-learning-client) (2022.6.15)\n",
      "Requirement already satisfied: pandas in c:\\users\\abdul\\appdata\\local\\programs\\python\\python310\\lib\\site-packages (from watson-machine-learning-client) (1.3.5)\n",
      "Collecting s3transfer<0.7.0,>=0.6.0\n",
      "  Using cached s3transfer-0.6.0-py3-none-any.whl (79 kB)\n",
      "Collecting botocore<1.30.0,>=1.29.13\n",
      "  Using cached botocore-1.29.13-py3-none-any.whl (9.9 MB)\n",
      "Collecting jmespath<2.0.0,>=0.7.1\n",
      "  Downloading jmespath-1.0.1-py3-none-any.whl (20 kB)\n",
      "Collecting ibm-cos-sdk-core==2.12.0\n",
      "  Using cached ibm-cos-sdk-core-2.12.0.tar.gz (956 kB)\n",
      "  Preparing metadata (setup.py): started\n",
      "  Preparing metadata (setup.py): finished with status 'done'\n",
      "Collecting ibm-cos-sdk-s3transfer==2.12.0\n",
      "  Using cached ibm-cos-sdk-s3transfer-2.12.0.tar.gz (135 kB)\n",
      "  Preparing metadata (setup.py): started\n",
      "  Preparing metadata (setup.py): finished with status 'done'\n",
      "Collecting jmespath<2.0.0,>=0.7.1\n",
      "  Using cached jmespath-0.10.0-py2.py3-none-any.whl (24 kB)\n",
      "Requirement already satisfied: python-dateutil<3.0.0,>=2.8.2 in c:\\users\\abdul\\appdata\\local\\programs\\python\\python310\\lib\\site-packages (from ibm-cos-sdk-core==2.12.0->ibm-cos-sdk->watson-machine-learning-client) (2.8.2)\n",
      "Requirement already satisfied: idna<4,>=2.5 in c:\\users\\abdul\\appdata\\local\\programs\\python\\python310\\lib\\site-packages (from requests->watson-machine-learning-client) (3.4)\n",
      "Requirement already satisfied: charset-normalizer<3,>=2 in c:\\users\\abdul\\appdata\\local\\programs\\python\\python310\\lib\\site-packages (from requests->watson-machine-learning-client) (2.1.1)\n",
      "Requirement already satisfied: six>=1.10.0 in c:\\users\\abdul\\appdata\\local\\programs\\python\\python310\\lib\\site-packages (from lomond->watson-machine-learning-client) (1.16.0)\n",
      "Requirement already satisfied: numpy>=1.21.0 in c:\\users\\abdul\\appdata\\local\\programs\\python\\python310\\lib\\site-packages (from pandas->watson-machine-learning-client) (1.22.1)\n",
      "Requirement already satisfied: pytz>=2017.3 in c:\\users\\abdul\\appdata\\local\\programs\\python\\python310\\lib\\site-packages (from pandas->watson-machine-learning-client) (2021.3)\n",
      "Requirement already satisfied: colorama in c:\\users\\abdul\\appdata\\local\\programs\\python\\python310\\lib\\site-packages (from tqdm->watson-machine-learning-client) (0.4.4)\n",
      "Building wheels for collected packages: ibm-cos-sdk, ibm-cos-sdk-core, ibm-cos-sdk-s3transfer\n",
      "  Building wheel for ibm-cos-sdk (setup.py): started\n",
      "  Building wheel for ibm-cos-sdk (setup.py): finished with status 'done'\n",
      "  Created wheel for ibm-cos-sdk: filename=ibm_cos_sdk-2.12.0-py3-none-any.whl size=73930 sha256=74cdd24bd9dac58daa49f1a29f3f152ec4691e1236feff25135241a375f18e57\n",
      "  Stored in directory: c:\\users\\abdul\\appdata\\local\\pip\\cache\\wheels\\de\\cf\\fb\\8c86f4e3a662cd34ea63c37835a1ff53896c3231011e3f2db1\n",
      "  Building wheel for ibm-cos-sdk-core (setup.py): started\n",
      "  Building wheel for ibm-cos-sdk-core (setup.py): finished with status 'done'\n",
      "  Created wheel for ibm-cos-sdk-core: filename=ibm_cos_sdk_core-2.12.0-py3-none-any.whl size=562962 sha256=b4f720be674f127d2ba44c8ff4661d952880ee4a0f4800b2065aaa022694a7e5\n",
      "  Stored in directory: c:\\users\\abdul\\appdata\\local\\pip\\cache\\wheels\\dc\\24\\3d\\8387c624d61a8465622f1ed4ca6cff5f27fbc93c508dfb9b00\n",
      "  Building wheel for ibm-cos-sdk-s3transfer (setup.py): started\n",
      "  Building wheel for ibm-cos-sdk-s3transfer (setup.py): finished with status 'done'\n",
      "  Created wheel for ibm-cos-sdk-s3transfer: filename=ibm_cos_sdk_s3transfer-2.12.0-py3-none-any.whl size=89778 sha256=26753c87d7c808288251bbd3f420f5ec4b6cd9b52c30c09fb0fcc0a152449e9e\n",
      "  Stored in directory: c:\\users\\abdul\\appdata\\local\\pip\\cache\\wheels\\a0\\40\\08\\833fc119b606353772e9b925bd2f3fb9be600171ec2a287ce2\n",
      "Successfully built ibm-cos-sdk ibm-cos-sdk-core ibm-cos-sdk-s3transfer\n",
      "Installing collected packages: tabulate, lomond, jmespath, ibm-cos-sdk-core, botocore, s3transfer, ibm-cos-sdk-s3transfer, ibm-cos-sdk, boto3, watson-machine-learning-client\n",
      "Successfully installed boto3-1.26.13 botocore-1.29.13 ibm-cos-sdk-2.12.0 ibm-cos-sdk-core-2.12.0 ibm-cos-sdk-s3transfer-2.12.0 jmespath-0.10.0 lomond-0.3.3 s3transfer-0.6.0 tabulate-0.9.0 watson-machine-learning-client-1.0.391\n",
      "\n",
      "[notice] A new release of pip available: 22.1.2 -> 22.3.1\n",
      "[notice] To update, run: python.exe -m pip install --upgrade pip\n"
     ]
    }
   ],
   "source": [
    "!pip install watson-machine-learning-client"
   ]
  },
  {
   "cell_type": "code",
   "execution_count": 3,
   "id": "f0f9d880",
   "metadata": {},
   "outputs": [],
   "source": [
    "from ibm_watson_machine_learning import APIClient\n",
    "wml_credentials={\n",
    "                \"url\":\"https://us-south.ml.cloud.ibm.com\",\n",
    "                \"apikey\":\"H1Az2Recmv5ukFYQWT3M2BEFmAnsaFkCkoFX-gGcLWMu\"\n",
    "                }"
   ]
  },
  {
   "cell_type": "code",
   "execution_count": 4,
   "id": "9f54962d",
   "metadata": {},
   "outputs": [],
   "source": [
    "client=APIClient(wml_credentials)"
   ]
  },
  {
   "cell_type": "code",
   "execution_count": 5,
   "id": "687bfc29",
   "metadata": {},
   "outputs": [],
   "source": [
    "def guid_from_space_name(client,space_name):\n",
    "    space=client.spaces.get_details()\n",
    "    return(next(item for item in space['resources'] if item['entity']['name'] == space_name)['metadata']['id'])"
   ]
  },
  {
   "cell_type": "code",
   "execution_count": 6,
   "id": "74c5f0ca",
   "metadata": {},
   "outputs": [
    {
     "name": "stdout",
     "output_type": "stream",
     "text": [
      "Space UID = 01e39a81-00c9-47a7-bbbb-8243e9b1e8f8\n"
     ]
    }
   ],
   "source": [
    "space_uid=guid_from_space_name(client,'models')\n",
    "print(\"Space UID = \"+ space_uid)"
   ]
  },
  {
   "cell_type": "code",
   "execution_count": 7,
   "id": "7499c312",
   "metadata": {},
   "outputs": [
    {
     "data": {
      "text/plain": [
       "'SUCCESS'"
      ]
     },
     "execution_count": 7,
     "metadata": {},
     "output_type": "execute_result"
    }
   ],
   "source": [
    "client.set.default_space(space_uid)"
   ]
  },
  {
   "cell_type": "code",
   "execution_count": 9,
   "id": "c16c4569",
   "metadata": {},
   "outputs": [
    {
     "name": "stdout",
     "output_type": "stream",
     "text": [
      "Successfully saved model content to file: 'arrhythmia.tar.gz'\n"
     ]
    },
    {
     "data": {
      "text/plain": [
       "'C:\\\\Users\\\\Abdul/arrhythmia.tar.gz'"
      ]
     },
     "execution_count": 9,
     "metadata": {},
     "output_type": "execute_result"
    }
   ],
   "source": [
    "client.repository.download('ff081f97-16ec-47dc-8e78-fbeaa6ee2dd3','arrhythmia.tar.gz')"
   ]
  },
  {
   "cell_type": "code",
   "execution_count": null,
   "id": "80a4c148",
   "metadata": {},
   "outputs": [],
   "source": []
  }
 ],
 "metadata": {
  "kernelspec": {
   "display_name": "Python 3 (ipykernel)",
   "language": "python",
   "name": "python3"
  },
  "language_info": {
   "codemirror_mode": {
    "name": "ipython",
    "version": 3
   },
   "file_extension": ".py",
   "mimetype": "text/x-python",
   "name": "python",
   "nbconvert_exporter": "python",
   "pygments_lexer": "ipython3",
   "version": "3.10.2"
  }
 },
 "nbformat": 4,
 "nbformat_minor": 5
}
